{
 "cells": [
  {
   "cell_type": "code",
   "execution_count": 2,
   "id": "5b15e6fc-899c-4a48-b6cd-49fed2fd2db8",
   "metadata": {},
   "outputs": [],
   "source": [
    "import pandas as pd"
   ]
  },
  {
   "cell_type": "code",
   "execution_count": 8,
   "id": "3d4db8b4-a495-4cf1-a584-e2cc2e5fc437",
   "metadata": {},
   "outputs": [
    {
     "name": "stdout",
     "output_type": "stream",
     "text": [
      "   raceId  driverId  lap  position      time  milliseconds\n",
      "0     841        20    1         1  1:38.109         98109\n",
      "1     841        20    2         1  1:33.006         93006\n",
      "2     841        20    3         1  1:32.713         92713\n",
      "3     841        20    4         1  1:32.803         92803\n",
      "4     841        20    5         1  1:32.342         92342\n",
      "   raceId  driverId  stop  lap      time duration  milliseconds\n",
      "0     841       153     1    1  17:05:23   26.898         26898\n",
      "1     841        30     1    1  17:05:52   25.021         25021\n",
      "2     841        17     1   11  17:20:48   23.426         23426\n",
      "3     841         4     1   12  17:22:34   23.251         23251\n",
      "4     841        13     1   13  17:24:10   23.842         23842\n",
      "   raceId  circuitId\n",
      "0       1          1\n",
      "1       2          2\n",
      "2       3         17\n",
      "3       4          3\n",
      "4       5          4\n"
     ]
    }
   ],
   "source": [
    "lap_times = pd.read_csv('lap_times.csv')\n",
    "print(lap_times.head())\n",
    "\n",
    "pit_stops = pd.read_csv('pit_stops.csv')\n",
    "print(pit_stops.head())\n",
    "\n",
    "races = races = pd.read_csv('races.csv')[[\"raceId\", \"circuitId\"]]\n",
    "print(races.head())"
   ]
  },
  {
   "cell_type": "code",
   "execution_count": 9,
   "id": "91dc5259-17a0-472c-9cb7-de6f94760a4a",
   "metadata": {},
   "outputs": [],
   "source": [
    "#Data Preprocessing\n",
    "\n",
    "lap_times = lap_times.merge(races, on='raceId', how='left')\n",
    "lap_times['normalized_time'] = lap_times['milliseconds'] / lap_times.groupby('raceId')['milliseconds'].transform('min')\n",
    "lap_times = lap_times.merge(pit_stops[['raceId', 'driverId', 'lap']], on=['raceId', 'driverId', 'lap'], how='left', indicator=True)\n",
    "lap_times['is_pit_stop'] = lap_times['_merge'] == 'both'\n",
    "lap_times.drop(columns=['_merge'], inplace=True)\n",
    "# Example: Filter out laps with normalized_time > 1.5 (assuming it's an anomaly)\n",
    "lap_times = lap_times[lap_times['normalized_time'] <= 1.5]\n"
   ]
  },
  {
   "cell_type": "code",
   "execution_count": 10,
   "id": "f5a7dec5-183e-46e7-b0e3-7549f6e26e86",
   "metadata": {
    "scrolled": true
   },
   "outputs": [
    {
     "name": "stdout",
     "output_type": "stream",
     "text": [
      "   raceId  driverId  lap  position      time  milliseconds  circuitId  \\\n",
      "0     841        20    1         1  1:38.109         98109          1   \n",
      "1     841        20    2         1  1:33.006         93006          1   \n",
      "2     841        20    3         1  1:32.713         92713          1   \n",
      "3     841        20    4         1  1:32.803         92803          1   \n",
      "4     841        20    5         1  1:32.342         92342          1   \n",
      "\n",
      "   normalized_time  is_pit_stop     lag_1     lag_2  \n",
      "0         1.103005        False       NaN       NaN  \n",
      "1         1.045634        False  1.103005       NaN  \n",
      "2         1.042340        False  1.045634  1.103005  \n",
      "3         1.043352        False  1.042340  1.045634  \n",
      "4         1.038169        False  1.043352  1.042340  \n"
     ]
    }
   ],
   "source": [
    "#Feature Engineering\n",
    "\n",
    "features = ['circuitId', 'lap', 'is_pit_stop']\n",
    "\n",
    "lap_times['lag_1'] = lap_times.groupby(['raceId', 'driverId'])['normalized_time'].shift(1)\n",
    "lap_times['lag_2'] = lap_times.groupby(['raceId', 'driverId'])['normalized_time'].shift(2)\n",
    "features += ['lag_1', 'lag_2']\n",
    "print(lap_times.head())"
   ]
  },
  {
   "cell_type": "code",
   "execution_count": 11,
   "id": "9e393e42-0c60-42e9-8ccb-d86ac51a63c5",
   "metadata": {},
   "outputs": [],
   "source": [
    "from sklearn.model_selection import train_test_split\n",
    "from sklearn.metrics import mean_squared_error\n",
    "\n",
    "\n",
    "# Drop NaNs and prepare data\n",
    "lap_times.dropna(subset=features + ['normalized_time'], inplace=True)\n",
    "X = lap_times[features]\n",
    "y = lap_times['normalized_time']\n",
    "\n",
    "# Split data and train the model\n",
    "X_train, X_test, y_train, y_test = train_test_split(X, y, test_size=0.2, random_state=42)\n"
   ]
  },
  {
   "cell_type": "code",
   "execution_count": 12,
   "id": "cfd0e10d-575d-4d97-812d-23c9cda68de0",
   "metadata": {},
   "outputs": [
    {
     "name": "stdout",
     "output_type": "stream",
     "text": [
      "MSE: 0.0033871243821748196\n"
     ]
    }
   ],
   "source": [
    "from sklearn.linear_model import LinearRegression\n",
    "\n",
    "model = LinearRegression()\n",
    "model.fit(X_train, y_train)\n",
    "y_pred = model.predict(X_test)\n",
    "\n",
    "print('MSE:', mean_squared_error(y_test, y_pred))\n"
   ]
  },
  {
   "cell_type": "code",
   "execution_count": 8,
   "id": "2f8aad7f-1da8-4b09-97b1-bfea28061732",
   "metadata": {},
   "outputs": [
    {
     "name": "stdout",
     "output_type": "stream",
     "text": [
      "Random Forest MSE: 0.001960514475127411\n",
      "Linear Regression MSE: 0.0033871715948670562\n",
      "MSE Improvement: 0.0014266571197396453\n"
     ]
    }
   ],
   "source": [
    "from sklearn.ensemble import RandomForestRegressor\n",
    "\n",
    "# Train a Random Forest model\n",
    "rf_model = RandomForestRegressor(n_estimators=100, random_state=42)\n",
    "rf_model.fit(X_train, y_train)\n",
    "\n",
    "# Predict using the Random Forest model\n",
    "y_pred_rf = rf_model.predict(X_test)\n",
    "\n",
    "# Calculate the MSE for the Random Forest model\n",
    "mse_rf = mean_squared_error(y_test, y_pred_rf)\n",
    "print('Random Forest MSE:', mse_rf)\n",
    "\n",
    "# For comparison, print the MSE of the linear regression model if you haven't already\n",
    "y_pred_lr = model.predict(X_test)\n",
    "mse_lr = mean_squared_error(y_test, y_pred_lr)\n",
    "print('Linear Regression MSE:', mse_lr)\n",
    "\n",
    "# Optionally, you could calculate the improvement in MSE\n",
    "improvement = mse_lr - mse_rf\n",
    "print('MSE Improvement:', improvement)\n"
   ]
  },
  {
   "cell_type": "code",
   "execution_count": 9,
   "id": "fcbe6fc8-4acf-4724-9a71-a62f88f9db4c",
   "metadata": {},
   "outputs": [
    {
     "name": "stdout",
     "output_type": "stream",
     "text": [
      "Gradient Boosting MSE: 0.002491870310213923\n"
     ]
    }
   ],
   "source": [
    "from sklearn.ensemble import GradientBoostingRegressor\n",
    "\n",
    "gb_model = GradientBoostingRegressor(n_estimators=100, random_state=42)\n",
    "gb_model.fit(X_train, y_train)\n",
    "y_pred_gb = gb_model.predict(X_test)\n",
    "mse_gb = mean_squared_error(y_test, y_pred_gb)\n",
    "print('Gradient Boosting MSE:', mse_gb)\n"
   ]
  },
  {
   "cell_type": "code",
   "execution_count": 19,
   "id": "0651709f-49ee-4ecf-b19b-36c3dcd1d0d7",
   "metadata": {},
   "outputs": [
    {
     "name": "stdout",
     "output_type": "stream",
     "text": [
      "XGBoost MSE: 0.0019985357516995247\n"
     ]
    }
   ],
   "source": [
    "import xgboost as xgb\n",
    "\n",
    "xgb_model = xgb.XGBRegressor(n_estimators=100, random_state=42)\n",
    "xgb_model.fit(X_train, y_train)\n",
    "y_pred_xgb = xgb_model.predict(X_test)\n",
    "mse_xgb = mean_squared_error(y_test, y_pred_xgb)\n",
    "print('XGBoost MSE:', mse_xgb)\n"
   ]
  },
  {
   "cell_type": "code",
   "execution_count": 14,
   "id": "f4281b3c-b874-4af4-8b38-ddc3c26466d6",
   "metadata": {},
   "outputs": [
    {
     "name": "stdout",
     "output_type": "stream",
     "text": [
      "[LightGBM] [Info] Auto-choosing row-wise multi-threading, the overhead of testing was 0.002190 seconds.\n",
      "You can set `force_row_wise=true` to remove the overhead.\n",
      "And if memory is not enough, you can set `force_col_wise=true`.\n",
      "[LightGBM] [Info] Total Bins 642\n",
      "[LightGBM] [Info] Number of data points in the train set: 412496, number of used features: 5\n",
      "[LightGBM] [Info] Start training from score 1.061508\n",
      "LightGBM MSE: 0.0021038731094620514\n"
     ]
    }
   ],
   "source": [
    "import lightgbm as lgb\n",
    "\n",
    "lgb_model = lgb.LGBMRegressor(n_estimators=100, random_state=42)\n",
    "lgb_model.fit(X_train, y_train)\n",
    "y_pred_lgb = lgb_model.predict(X_test)\n",
    "mse_lgb = mean_squared_error(y_test, y_pred_lgb)\n",
    "print('LightGBM MSE:', mse_lgb)\n"
   ]
  },
  {
   "cell_type": "code",
   "execution_count": 10,
   "id": "3ad886bf-2275-4c96-881f-17da4343189a",
   "metadata": {},
   "outputs": [
    {
     "name": "stdout",
     "output_type": "stream",
     "text": [
      "Neural Network MSE: 0.009784947713594403\n"
     ]
    }
   ],
   "source": [
    "from sklearn.neural_network import MLPRegressor\n",
    "\n",
    "nn_model = MLPRegressor(hidden_layer_sizes=(100, 50), max_iter=500, random_state=42)\n",
    "nn_model.fit(X_train, y_train)\n",
    "y_pred_nn = nn_model.predict(X_test)\n",
    "mse_nn = mean_squared_error(y_test, y_pred_nn)\n",
    "print('Neural Network MSE:', mse_nn)\n"
   ]
  },
  {
   "cell_type": "code",
   "execution_count": null,
   "id": "51923983-b7ee-443a-88b7-dc622baac765",
   "metadata": {},
   "outputs": [],
   "source": []
  }
 ],
 "metadata": {
  "kernelspec": {
   "display_name": "Python 3 (ipykernel)",
   "language": "python",
   "name": "python3"
  },
  "language_info": {
   "codemirror_mode": {
    "name": "ipython",
    "version": 3
   },
   "file_extension": ".py",
   "mimetype": "text/x-python",
   "name": "python",
   "nbconvert_exporter": "python",
   "pygments_lexer": "ipython3",
   "version": "3.12.4"
  }
 },
 "nbformat": 4,
 "nbformat_minor": 5
}
