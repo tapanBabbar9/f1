{
 "cells": [
  {
   "cell_type": "code",
   "execution_count": 30,
   "id": "d1a08669-677b-4549-b954-2a120d0a6759",
   "metadata": {},
   "outputs": [],
   "source": [
    "import torch\n",
    "import pandas as pd\n",
    "import numpy as np\n",
    "\n",
    "import torch.nn as nn\n",
    "from torch.utils.data import DataLoader, TensorDataset\n",
    "from sklearn.model_selection import train_test_split\n",
    "\n",
    "import matplotlib.pyplot as plt"
   ]
  },
  {
   "cell_type": "code",
   "execution_count": 31,
   "id": "7eb93261-1146-47c4-85c0-3038282c0743",
   "metadata": {},
   "outputs": [],
   "source": [
    "lap_times = pd.read_csv('../dataset/lap_times.csv')\n",
    "pit_stops = pd.read_csv('../dataset/pit_stops.csv')[['raceId', 'driverId', 'lap']]\n",
    "races = pd.read_csv('../dataset/races.csv')[['raceId', 'circuitId']]"
   ]
  },
  {
   "cell_type": "code",
   "execution_count": 33,
   "id": "95390893-e376-424f-8776-1c15639851ad",
   "metadata": {},
   "outputs": [
    {
     "data": {
      "text/html": [
       "<div>\n",
       "<style scoped>\n",
       "    .dataframe tbody tr th:only-of-type {\n",
       "        vertical-align: middle;\n",
       "    }\n",
       "\n",
       "    .dataframe tbody tr th {\n",
       "        vertical-align: top;\n",
       "    }\n",
       "\n",
       "    .dataframe thead th {\n",
       "        text-align: right;\n",
       "    }\n",
       "</style>\n",
       "<table border=\"1\" class=\"dataframe\">\n",
       "  <thead>\n",
       "    <tr style=\"text-align: right;\">\n",
       "      <th></th>\n",
       "      <th>raceId</th>\n",
       "      <th>driverId</th>\n",
       "      <th>lap</th>\n",
       "      <th>position</th>\n",
       "      <th>time</th>\n",
       "      <th>milliseconds</th>\n",
       "      <th>circuitId_x</th>\n",
       "      <th>normalized_time</th>\n",
       "      <th>is_pit_stop</th>\n",
       "      <th>is_pit_exit</th>\n",
       "      <th>circuitId_y</th>\n",
       "    </tr>\n",
       "  </thead>\n",
       "  <tbody>\n",
       "    <tr>\n",
       "      <th>0</th>\n",
       "      <td>841</td>\n",
       "      <td>20</td>\n",
       "      <td>1</td>\n",
       "      <td>1</td>\n",
       "      <td>1:38.109</td>\n",
       "      <td>98109</td>\n",
       "      <td>1</td>\n",
       "      <td>1.103005</td>\n",
       "      <td>0</td>\n",
       "      <td>0</td>\n",
       "      <td>1</td>\n",
       "    </tr>\n",
       "    <tr>\n",
       "      <th>1</th>\n",
       "      <td>841</td>\n",
       "      <td>20</td>\n",
       "      <td>2</td>\n",
       "      <td>1</td>\n",
       "      <td>1:33.006</td>\n",
       "      <td>93006</td>\n",
       "      <td>1</td>\n",
       "      <td>1.045634</td>\n",
       "      <td>0</td>\n",
       "      <td>0</td>\n",
       "      <td>1</td>\n",
       "    </tr>\n",
       "    <tr>\n",
       "      <th>2</th>\n",
       "      <td>841</td>\n",
       "      <td>20</td>\n",
       "      <td>3</td>\n",
       "      <td>1</td>\n",
       "      <td>1:32.713</td>\n",
       "      <td>92713</td>\n",
       "      <td>1</td>\n",
       "      <td>1.042340</td>\n",
       "      <td>0</td>\n",
       "      <td>0</td>\n",
       "      <td>1</td>\n",
       "    </tr>\n",
       "    <tr>\n",
       "      <th>3</th>\n",
       "      <td>841</td>\n",
       "      <td>20</td>\n",
       "      <td>4</td>\n",
       "      <td>1</td>\n",
       "      <td>1:32.803</td>\n",
       "      <td>92803</td>\n",
       "      <td>1</td>\n",
       "      <td>1.043352</td>\n",
       "      <td>0</td>\n",
       "      <td>0</td>\n",
       "      <td>1</td>\n",
       "    </tr>\n",
       "    <tr>\n",
       "      <th>4</th>\n",
       "      <td>841</td>\n",
       "      <td>20</td>\n",
       "      <td>5</td>\n",
       "      <td>1</td>\n",
       "      <td>1:32.342</td>\n",
       "      <td>92342</td>\n",
       "      <td>1</td>\n",
       "      <td>1.038169</td>\n",
       "      <td>0</td>\n",
       "      <td>0</td>\n",
       "      <td>1</td>\n",
       "    </tr>\n",
       "  </tbody>\n",
       "</table>\n",
       "</div>"
      ],
      "text/plain": [
       "   raceId  driverId  lap  position      time  milliseconds  circuitId_x  \\\n",
       "0     841        20    1         1  1:38.109         98109            1   \n",
       "1     841        20    2         1  1:33.006         93006            1   \n",
       "2     841        20    3         1  1:32.713         92713            1   \n",
       "3     841        20    4         1  1:32.803         92803            1   \n",
       "4     841        20    5         1  1:32.342         92342            1   \n",
       "\n",
       "   normalized_time  is_pit_stop  is_pit_exit  circuitId_y  \n",
       "0         1.103005            0            0            1  \n",
       "1         1.045634            0            0            1  \n",
       "2         1.042340            0            0            1  \n",
       "3         1.043352            0            0            1  \n",
       "4         1.038169            0            0            1  "
      ]
     },
     "execution_count": 33,
     "metadata": {},
     "output_type": "execute_result"
    }
   ],
   "source": [
    "#Data Preprocessing\n",
    "\n",
    "lap_times = lap_times.merge(races, on='raceId', how='left')\n",
    "lap_times['normalized_time'] = lap_times['milliseconds'] / lap_times.groupby('raceId')['milliseconds'].transform('min')\n",
    "lap_times = lap_times.merge(pit_stops[['raceId', 'driverId', 'lap']], on=['raceId', 'driverId', 'lap'], how='left', indicator=True)\n",
    "lap_times['is_pit_stop'] = (lap_times['_merge'] == 'both').astype(int)\n",
    "lap_times.drop(columns=['_merge'], inplace=True)\n",
    "lap_times['is_pit_exit'] = lap_times['is_pit_stop'].shift(1, fill_value=0)\n",
    "# Example: Filter out laps with normalized_time > 1.5 (assuming it's an anomaly)\n",
    "lap_times = lap_times[lap_times['normalized_time'] <= 1.5]\n",
    "lap_times.head()"
   ]
  },
  {
   "cell_type": "code",
   "execution_count": 34,
   "id": "3d3983d7-6bb6-4d78-a663-7bdc51a5a84f",
   "metadata": {},
   "outputs": [
    {
     "name": "stdout",
     "output_type": "stream",
     "text": [
      "Input tensors:  tensor([[8.4100e+02, 2.0000e+01, 1.0000e+00, 1.0000e+00, 9.8109e+04, 1.0000e+00,\n",
      "         0.0000e+00, 0.0000e+00, 1.0000e+00],\n",
      "        [8.4100e+02, 2.0000e+01, 2.0000e+00, 1.0000e+00, 9.3006e+04, 1.0000e+00,\n",
      "         0.0000e+00, 0.0000e+00, 1.0000e+00],\n",
      "        [8.4100e+02, 2.0000e+01, 3.0000e+00, 1.0000e+00, 9.2713e+04, 1.0000e+00,\n",
      "         0.0000e+00, 0.0000e+00, 1.0000e+00],\n",
      "        [8.4100e+02, 2.0000e+01, 4.0000e+00, 1.0000e+00, 9.2803e+04, 1.0000e+00,\n",
      "         0.0000e+00, 0.0000e+00, 1.0000e+00],\n",
      "        [8.4100e+02, 2.0000e+01, 5.0000e+00, 1.0000e+00, 9.2342e+04, 1.0000e+00,\n",
      "         0.0000e+00, 0.0000e+00, 1.0000e+00]]) \n",
      "\n",
      "Output tensors:  tensor([1.1030, 1.0456, 1.0423, 1.0434, 1.0382]) \n",
      "\n",
      "\n",
      "Shape of input tensor:  torch.Size([558132, 9])\n",
      "Shape of ouput tensor:  torch.Size([558132])\n"
     ]
    }
   ],
   "source": [
    "X = torch.tensor(lap_times.drop(columns=[\"normalized_time\", \"time\"], axis=1).to_numpy(), dtype=torch.float)\n",
    "y = torch.tensor(lap_times[\"normalized_time\"].to_numpy(), dtype=torch.float)\n",
    "\n",
    "# Verify X, y value\n",
    "print(\"Input tensors: \", X[:5], \"\\n\")\n",
    "print(\"Output tensors: \", y[:5], \"\\n\\n\")\n",
    "\n",
    "print(\"Shape of input tensor: \", X.shape)\n",
    "print(\"Shape of ouput tensor: \", y.shape)"
   ]
  },
  {
   "cell_type": "code",
   "execution_count": 35,
   "id": "c4198f74-da88-4021-96fa-a8ff0e3a83aa",
   "metadata": {},
   "outputs": [
    {
     "name": "stdout",
     "output_type": "stream",
     "text": [
      "Shape of input tensor:  torch.Size([558132, 9])\n",
      "Shape of ouput tensor:  torch.Size([558132]) \n",
      "\n",
      "Train input:  torch.Size([446505, 9]) Train output:  torch.Size([446505])\n",
      "Val input:  torch.Size([55813, 9]) Val output:  torch.Size([55813])\n",
      "Test input:  torch.Size([55814, 9]) Test output:  torch.Size([55814])\n"
     ]
    }
   ],
   "source": [
    "X_train, X_eval, y_train, y_eval = train_test_split(X, y, test_size=0.2, random_state=42)\n",
    "X_val, X_test, y_val, y_test = train_test_split(X_eval, y_eval, test_size=0.5, random_state=42)\n",
    "\n",
    "# Shape of dataset before split\n",
    "\n",
    "print(\"Shape of input tensor: \", X.shape)\n",
    "print(\"Shape of ouput tensor: \", y.shape, \"\\n\")\n",
    "\n",
    "# Shape of train, val, and test dataset after split. The sum total is same as original dataset. \n",
    "# And each dataset still has 6 features which is the expected result\n",
    "\n",
    "print(\"Train input: \", X_train.shape, \"Train output: \", y_train.shape)\n",
    "print(\"Val input: \", X_val.shape, \"Val output: \", y_val.shape)\n",
    "print(\"Test input: \", X_test.shape, \"Test output: \", y_test.shape)"
   ]
  },
  {
   "cell_type": "code",
   "execution_count": 36,
   "id": "82506aaf-25d7-4055-8348-b206eb933d9c",
   "metadata": {},
   "outputs": [
    {
     "name": "stdout",
     "output_type": "stream",
     "text": [
      "Normalized X_train:  tensor([[ 0.9957,  1.3440,  0.5256, -1.3859, -1.0375, -0.6456, -0.1317, -0.1316,\n",
      "         -0.6456],\n",
      "        [ 0.7127,  1.3049, -0.3484,  0.0621,  1.4896, -0.2053, -0.1317, -0.1316,\n",
      "         -0.2053],\n",
      "        [ 0.7452,  1.3205,  2.0005,  1.6910, -1.0107,  2.4854, -0.1317, -0.1316,\n",
      "          2.4854],\n",
      "        [ 1.1465, -0.8077,  0.6895, -0.4809, -0.9069, -0.6456, -0.1317, -0.1316,\n",
      "         -0.6456],\n",
      "        [-1.1708, -0.7399,  0.1979, -0.6619, -0.6728, -0.4988, -0.1317, -0.1316,\n",
      "         -0.4988]]) \n",
      "\n",
      "Normalized X_val:  tensor([[-1.3287, -0.6429, -0.9442,  0.0577,  1.2448, -0.3008, -0.1333, -0.1312,\n",
      "         -0.3008],\n",
      "        [-1.3310, -0.7940,  0.2020, -0.1234,  0.5385, -0.3499, -0.1333, -0.1312,\n",
      "         -0.3499],\n",
      "        [-1.0734, -0.6872, -0.8350,  1.3252, -1.1675, -0.0063, -0.1333, -0.1312,\n",
      "         -0.0063],\n",
      "        [ 0.5973, -0.8097, -0.3438,  0.4198,  0.8502, -0.8408, -0.1333, -0.1312,\n",
      "         -0.8408],\n",
      "        [-1.2358, -0.7654, -1.2717,  0.4198, -1.0926, -0.0554, -0.1333, -0.1312,\n",
      "         -0.0554]]) \n",
      "\n",
      "Normalized X_train:  tensor([[ 0.6413,  1.2882, -0.4512,  0.7824,  0.6720, -0.7914, -0.1318, -0.1349,\n",
      "         -0.7914],\n",
      "        [ 0.8013,  1.3402, -1.2682,  0.9633, -0.8171, -0.5955, -0.1318, -0.1349,\n",
      "         -0.5955],\n",
      "        [-1.0820, -0.8005,  0.1479, -1.3877, -0.4071, -0.3996, -0.1318, -0.1349,\n",
      "         -0.3996],\n",
      "        [-1.0449, -0.8005,  0.3113, -0.6643,  0.6018, -0.3996, -0.1318, -0.1349,\n",
      "         -0.3996],\n",
      "        [-0.5648, -0.7251, -0.7235,  0.6016,  0.0712, -0.6934, -0.1318, -0.1349,\n",
      "         -0.6934]]) \n",
      "\n"
     ]
    }
   ],
   "source": [
    "# Calculate mean\n",
    "mean_train = X_train.mean(dim=0)\n",
    "mean_val = X_val.mean(dim=0)\n",
    "mean_test = X_test.mean(dim=0)\n",
    "\n",
    "# Calculate standard deviation\n",
    "std_train = X_train.std(dim=0)\n",
    "std_val = X_val.std(dim=0)\n",
    "std_test = X_test.std(dim=0)\n",
    "\n",
    "# apply mean and std to the input dataset\n",
    "X_train = (X_train - mean_train)/ std_train\n",
    "X_val = (X_val - mean_val)/ std_val\n",
    "X_test = (X_test - mean_test)/ std_test\n",
    "\n",
    "print(\"Normalized X_train: \", X_train[:5], \"\\n\")\n",
    "print(\"Normalized X_val: \",X_val[:5], \"\\n\")\n",
    "print(\"Normalized X_train: \",X_test[:5], \"\\n\")"
   ]
  },
  {
   "cell_type": "code",
   "execution_count": 37,
   "id": "7a70491e-e1e4-460d-82f2-372843fabb44",
   "metadata": {},
   "outputs": [
    {
     "name": "stdout",
     "output_type": "stream",
     "text": [
      "(tensor([ 0.9957,  1.3440,  0.5256, -1.3859, -1.0375, -0.6456, -0.1317, -0.1316,\n",
      "        -0.6456]), tensor(1.0496))\n"
     ]
    }
   ],
   "source": [
    "train_dataset = TensorDataset(X_train, y_train)\n",
    "val_dataset = TensorDataset(X_val, y_val)\n",
    "test_dataset = TensorDataset(X_test, y_test)\n",
    "\n",
    "# show how train_dataset looks like\n",
    "print(train_dataset[0])"
   ]
  },
  {
   "cell_type": "code",
   "execution_count": 38,
   "id": "4ff77af7-68c2-413c-8305-fd78f1044dd3",
   "metadata": {},
   "outputs": [
    {
     "name": "stdout",
     "output_type": "stream",
     "text": [
      "Shape of first batch of train_loader input :  torch.Size([10, 9])\n",
      "Shape of first batch of train_loader output :  torch.Size([10])\n"
     ]
    }
   ],
   "source": [
    "# Creating dataloader for each train, val and test dataset\n",
    "train_loader = DataLoader(train_dataset, batch_size=10, shuffle=True, drop_last=True)\n",
    "val_loader = DataLoader(val_dataset, batch_size=10, shuffle=False, drop_last=True)\n",
    "test_loader = DataLoader(test_dataset, batch_size=len(test_dataset.tensors[0]), shuffle=False, drop_last=True)\n",
    "\n",
    "# showing first batch of train_loader\n",
    "for X, y in train_loader:\n",
    "  print(\"Shape of first batch of train_loader input : \", X.shape)\n",
    "  print(\"Shape of first batch of train_loader output : \", y.shape)\n",
    "  break"
   ]
  },
  {
   "cell_type": "code",
   "execution_count": 39,
   "id": "a2e5bd33-d423-44d9-9815-446734de1e9d",
   "metadata": {},
   "outputs": [],
   "source": [
    "class fitbit_model(nn.Module):\n",
    "  def __init__(self, input_features, output_class):\n",
    "    super(fitbit_model, self).__init__()    \n",
    "    self.layer1 = nn.Linear(in_features=input_features, out_features=64)\n",
    "    self.activation1 = nn.ReLU()\n",
    "    self.layer2 = nn.Linear(in_features=64, out_features=64)\n",
    "    self.activation2 = nn.ReLU()\n",
    "    self.layer3 = nn.Linear(in_features=64, out_features=32)    \n",
    "    self.activation3 = nn.ReLU()\n",
    "    self.output = nn.Linear(in_features=32, out_features=output_class)\n",
    "\n",
    "  def forward(self, x):\n",
    "    x = self.activation1(self.layer1(x))\n",
    "    x = self.activation2(self.layer2(x))\n",
    "    x = self.activation3(self.layer3(x))\n",
    "    return self.output(x)\n"
   ]
  },
  {
   "cell_type": "code",
   "execution_count": 40,
   "id": "8ce069bc-4875-4994-95c2-16b57ec8c9af",
   "metadata": {},
   "outputs": [
    {
     "name": "stdout",
     "output_type": "stream",
     "text": [
      "Model Schema\n",
      "\n",
      "fitbit_model(\n",
      "  (layer1): Linear(in_features=9, out_features=64, bias=True)\n",
      "  (activation1): ReLU()\n",
      "  (layer2): Linear(in_features=64, out_features=64, bias=True)\n",
      "  (activation2): ReLU()\n",
      "  (layer3): Linear(in_features=64, out_features=32, bias=True)\n",
      "  (activation3): ReLU()\n",
      "  (output): Linear(in_features=32, out_features=1, bias=True)\n",
      ")\n",
      "\n",
      "Model initial weights values for layer1\n",
      "tensor([[ 0.0123,  0.0137, -0.0056,  0.0814, -0.2785, -0.2862,  0.0810, -0.1417,\n",
      "         -0.2394],\n",
      "        [-0.2773,  0.1815,  0.1543, -0.2270, -0.1267,  0.2766,  0.0748, -0.0175,\n",
      "          0.0242]], grad_fn=<SliceBackward0>)\n",
      "Weight shape on layer1:  torch.Size([64, 9])\n",
      "\n",
      "Model initial bias values for layer1\n",
      "tensor([-0.1009, -0.1567], grad_fn=<SliceBackward0>)\n",
      "Bias shape on layer1:  torch.Size([64])\n"
     ]
    }
   ],
   "source": [
    "input_features = X_train.shape[1]\n",
    "output_class = 1\n",
    "model = fitbit_model(input_features, output_class)\n",
    "\n",
    "print(\"Model Schema\\n\")\n",
    "print(model)\n",
    "\n",
    "print(\"\\nModel initial weights values for layer1\")\n",
    "print(model.layer1.weight[:2])\n",
    "print(\"Weight shape on layer1: \", model.layer1.weight.shape)\n",
    "\n",
    "print(\"\\nModel initial bias values for layer1\")\n",
    "print(model.layer1.bias[:2])\n",
    "print(\"Bias shape on layer1: \", model.layer1.bias.shape)\n"
   ]
  },
  {
   "cell_type": "code",
   "execution_count": 41,
   "id": "0bafac63-02f5-43ac-9a2a-989a42996fac",
   "metadata": {},
   "outputs": [],
   "source": [
    "# Loss function and optimizer \n",
    "loss_fn = nn.HuberLoss(delta=0.5) \n",
    "optimizer = torch.optim.Adam(params=model.parameters(), lr=0.001)\n",
    "\n",
    "# collecting metrics \n",
    "train_losses = []\n",
    "val_losses = []\n",
    "\n",
    "# Total number of epochs\n",
    "n_epochs = 10"
   ]
  },
  {
   "cell_type": "code",
   "execution_count": null,
   "id": "3c0081ae-4cdf-45ba-983b-6bae88ca4945",
   "metadata": {},
   "outputs": [
    {
     "name": "stdout",
     "output_type": "stream",
     "text": [
      "Epoch [1/10]: Train Loss: 0.00154892, Val Loss: 0.00100304\n",
      "Epoch [2/10]: Train Loss: 0.00088938, Val Loss: 0.00078657\n",
      "Epoch [3/10]: Train Loss: 0.00071678, Val Loss: 0.00064559\n",
      "Epoch [4/10]: Train Loss: 0.00060610, Val Loss: 0.00053315\n",
      "Epoch [5/10]: Train Loss: 0.00055395, Val Loss: 0.00058598\n",
      "Epoch [6/10]: Train Loss: 0.00051565, Val Loss: 0.00048237\n"
     ]
    }
   ],
   "source": [
    "# Train and evaluate the model\n",
    "for epoch in range(n_epochs): \n",
    "\n",
    "  # Train the model \n",
    "  model.train()\n",
    "  train_loss = 0.0\n",
    "  for x_batch, y_batch in train_loader:\n",
    "    # forward pass\n",
    "    y_pred = model(x_batch)\n",
    "    y_pred = torch.squeeze(y_pred)\n",
    "    y_batch = y_batch.float()\n",
    "    loss = loss_fn(y_pred, y_batch)\n",
    "\n",
    "    # backward pass\n",
    "    optimizer.zero_grad()\n",
    "    loss.backward()\n",
    "\n",
    "    # update weights\n",
    "    optimizer.step()\n",
    "    train_loss += loss.item()\n",
    "  train_losses.append(train_loss / len(train_loader))\n",
    "\n",
    "  # Evaluate the model \n",
    "  model.eval()\n",
    "  val_loss = 0.0\n",
    "  with torch.inference_mode():\n",
    "    for x_batch, y_batch in val_loader:\n",
    "      y_pred = model(x_batch)      \n",
    "      y_pred = torch.squeeze(y_pred)\n",
    "      y_batch = y_batch.float()\n",
    "      loss = loss_fn(y_pred, y_batch)\n",
    "\n",
    "      val_loss += loss.item()\n",
    "    val_losses.append(val_loss/len(val_loader))\n",
    "\n",
    "  print(f'Epoch [{epoch+1}/{n_epochs}]: Train Loss: {train_losses[-1]:.8f}, Val Loss: {val_losses[-1]:.8f}')"
   ]
  },
  {
   "cell_type": "code",
   "execution_count": 37,
   "id": "31850d85-15fa-4639-be1d-8ced7f75117f",
   "metadata": {},
   "outputs": [
    {
     "data": {
      "image/png": "[encoded data removed]",
      "text/plain": [
       "<Figure size 1200x600 with 1 Axes>"
      ]
     },
     "metadata": {},
     "output_type": "display_data"
    }
   ],
   "source": [
    "plt.figure(figsize=(12,6))\n",
    "plt.plot(train_losses, label=\"Train Loss\")\n",
    "plt.plot(val_losses, label=\"Validation Loss\")\n",
    "plt.ylabel(\"loss over Epochs\")\n",
    "plt.xlabel(\"Epoch\")\n",
    "plt.legend()\n",
    "plt.show()"
   ]
  },
  {
   "cell_type": "code",
   "execution_count": 38,
   "id": "221cdade-4fbb-4729-a21a-a05d160a93e1",
   "metadata": {},
   "outputs": [],
   "source": [
    "# Predicting the test dataset\n",
    "model.eval()\n",
    "pred_val = []\n",
    "target_val = []\n",
    "\n",
    "with torch.inference_mode():\n",
    "  for x_test, y_test in test_loader:\n",
    "    y_test_pred = model(x_test)\n",
    "    pred_val.append(y_test_pred)\n",
    "    target_val.append(y_test)"
   ]
  },
  {
   "cell_type": "code",
   "execution_count": 39,
   "id": "0ecdb61e-6c79-4ab5-8128-1226f276b156",
   "metadata": {},
   "outputs": [
    {
     "data": {
      "image/png": "[encoded data removed]",
      "text/plain": [
       "<Figure size 640x480 with 1 Axes>"
      ]
     },
     "metadata": {},
     "output_type": "display_data"
    }
   ],
   "source": [
    "labels = torch.cat(target_val).flatten().tolist()\n",
    "predictions = torch.cat(pred_val).flatten().tolist()\n",
    "\n",
    "plt.scatter(labels, predictions)\n",
    "\n",
    "max_lim = max(max(predictions), max(labels))\n",
    "max_lim += max_lim * 0.1\n",
    "\n",
    "plt.xlim(0, max_lim)\n",
    "plt.ylim(0, max_lim)\n",
    "\n",
    "plt.plot([0,max_lim], [0,max_lim], \"b-\")\n",
    "\n",
    "plt.xlabel(\"True Values\") \n",
    "plt.ylabel(\"Predicted Values\")\n",
    "plt.tight_layout()\n"
   ]
  },
  {
   "cell_type": "code",
   "execution_count": null,
   "id": "bc383c0f-650e-497d-8808-54e543bfa626",
   "metadata": {},
   "outputs": [],
   "source": []
  }
 ],
 "metadata": {
  "kernelspec": {
   "display_name": "Python 3 (ipykernel)",
   "language": "python",
   "name": "python3"
  },
  "language_info": {
   "codemirror_mode": {
    "name": "ipython",
    "version": 3
   },
   "file_extension": ".py",
   "mimetype": "text/x-python",
   "name": "python",
   "nbconvert_exporter": "python",
   "pygments_lexer": "ipython3",
   "version": "3.12.4"
  }
 },
 "nbformat": 4,
 "nbformat_minor": 5
}
